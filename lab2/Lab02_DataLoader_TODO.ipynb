{
 "cells": [
  {
   "cell_type": "markdown",
   "metadata": {},
   "source": [
    "# Laboratorium 2: DataLoadery i prosta sieć CNN (MedMNIST – PneumoniaMNIST)\n",
    " \n",
    "**Cel:** nauczyć się przygotowywania **własnego Datasetu** w PyTorch oraz wykorzystać go do **szybkiego treningu prostej sieci CNN** na małym, medycznym zbiorze danych.\n",
    "\n",
    "\n",
    "> **Dataset:** użyjemy **PneumoniaMNIST** z kolekcji **MedMNIST** – to mały, 2-klasowy zbiór obrazów RTG płuc (zapalenie płuc vs brak). Dataset zostanie **automatycznie pobrany** w notebooku. Użyty zostanie też dataset **OrganMNIST3D** do klasyfikacji organów na podstawie danych trójwymiarowych."
   ]
  },
  {
   "cell_type": "markdown",
   "metadata": {},
   "source": [
    "## 0) Instalacja i importy"
   ]
  },
  {
   "cell_type": "code",
   "execution_count": 1,
   "metadata": {},
   "outputs": [
    {
     "name": "stderr",
     "output_type": "stream",
     "text": [
      "/home/karolina/studia/piaom/venv/lib/python3.10/site-packages/tqdm/auto.py:21: TqdmWarning: IProgress not found. Please update jupyter and ipywidgets. See https://ipywidgets.readthedocs.io/en/stable/user_install.html\n",
      "  from .autonotebook import tqdm as notebook_tqdm\n"
     ]
    },
    {
     "name": "stdout",
     "output_type": "stream",
     "text": [
      "PyTorch: 2.8.0+cu128\n"
     ]
    }
   ],
   "source": [
    "# !pip -q install medmnist torchmetrics tqdm --extra-index-url https://download.pytorch.org/whl/cpu\n",
    "\n",
    "import os, sys, time, json, math, random\n",
    "import numpy as np\n",
    "import matplotlib.pyplot as plt\n",
    "\n",
    "import torch\n",
    "import torch.nn as nn\n",
    "import torch.nn.functional as F\n",
    "from torch.utils.data import Dataset, DataLoader, random_split\n",
    "from torchvision import transforms\n",
    "\n",
    "from tqdm.auto import tqdm\n",
    "from torchmetrics.classification import BinaryAccuracy, BinaryConfusionMatrix\n",
    "\n",
    "import medmnist\n",
    "from medmnist import PneumoniaMNIST\n",
    "from medmnist import INFO\n",
    "\n",
    "import PIL.Image as Image\n",
    "\n",
    "from sklearn.metrics import ConfusionMatrixDisplay, confusion_matrix\n",
    "\n",
    "print(\"PyTorch:\", torch.__version__)"
   ]
  },
  {
   "cell_type": "markdown",
   "metadata": {},
   "source": [
    "## 1) Pobranie i eksploracja danych (MedMNIST – PneumoniaMNIST)\n",
    "\n",
    "Skrypt automatycznie pobiera zbiór **PneumoniaMNIST**. Poniższy kod sprawdza rozmiar danych i etykiety.\n",
    "Wyświetlone zostaje również 6 pierwszych próbek z tego zbioru."
   ]
  },
  {
   "cell_type": "code",
   "execution_count": 2,
   "metadata": {},
   "outputs": [
    {
     "name": "stdout",
     "output_type": "stream",
     "text": [
      "Opis: The PneumoniaMNIST is based on a prior dataset of 5,856 pediatric chest X-Ray images. The task is binary-class classification of pneumonia against normal. We split the source training set with a ratio of 9:1 into training and validation set and use its source validation set as the test set. The source images are gray-scale, and their sizes are (384−2,916)×(127−2,713). We center-crop the images and resize them into 1×28×28.\n",
      "Liczba klas: 2 ; klasy: {'0': 'normal', '1': 'pneumonia'}\n",
      "Rozmiar obrazów: (28, 28)\n",
      "Rozmiary: 4708 524 624\n"
     ]
    },
    {
     "data": {
      "image/png": "[encoded data removed]",
      "text/plain": [
       "<Figure size 1000x200 with 6 Axes>"
      ]
     },
     "metadata": {},
     "output_type": "display_data"
    }
   ],
   "source": [
    "DATA_ROOT = \"./data/medmnist\"\n",
    "os.makedirs(DATA_ROOT, exist_ok=True)\n",
    "\n",
    "info = INFO['pneumoniamnist']\n",
    "print(\"Opis:\", info['description'])\n",
    "print(\"Liczba klas:\", len(info['label']), \"; klasy:\", info['label'])\n",
    "\n",
    "# Print image shape using the first image in the train set\n",
    "sample_img, _ = PneumoniaMNIST(split='train', download=True, root=DATA_ROOT, as_rgb=False)[0]\n",
    "print(\"Rozmiar obrazów:\", np.array(sample_img).shape)\n",
    "\n",
    "train_set_raw = PneumoniaMNIST(split='train', download=True, root=DATA_ROOT, as_rgb=False)\n",
    "val_set_raw   = PneumoniaMNIST(split='val',   download=True, root=DATA_ROOT, as_rgb=False)\n",
    "test_set_raw  = PneumoniaMNIST(split='test',  download=True, root=DATA_ROOT, as_rgb=False)\n",
    "\n",
    "print(\"Rozmiary:\", len(train_set_raw), len(val_set_raw), len(test_set_raw))\n",
    "\n",
    "fig, axes = plt.subplots(1, 6, figsize=(10,2))\n",
    "for i in range(6):\n",
    "    img, label = train_set_raw[i]\n",
    "    img_np = np.array(img)\n",
    "    axes[i].imshow(img_np, cmap='gray')\n",
    "    axes[i].set_title(f\"y={int(label.squeeze().item())}\")\n",
    "    axes[i].axis('off')\n",
    "plt.tight_layout(); plt.show()"
   ]
  },
  {
   "cell_type": "markdown",
   "metadata": {},
   "source": [
    "## Zadanie 1 – Własny `Dataset` i `DataLoader`\n",
    "\n",
    "W pierwszym kroku chcemy przygotować własny Datasoader dla zbioru PneumoniaMNIST. Dla popularnych zbiorów danych zazwyczaj nie ma konieczności pisania własnego Datasetu, ale dobrze jest wiedzieć jak powinien on działać.\n",
    "Dataset jest klasą dziedziczącą po klasie `Dataset` z `torch.utils.data`, która pozwala na wczytywanie danych. Musi ona zawierać przynajmniej 3 metody: `__init__` - stworzenie i inicjalizacja obiektów klasy, `__len__` - sprawdzenie liczby dostępnych próbek, `__getitem__` - pobranie próbki o zadanym indeksie. Zazwyczaj Dataset odpowiedzialny jest również za transformacje i augmentację danych, ale tym będziemy zajmować się później.\n",
    "W naszym przypadku zbiór danych jest bardzo mały, więc możemy cały trzymać w pamięci, ale zazwyczaj dane są przechowywane na dysku i odczytywane dopiero wtedy, kiedy musimy je przetworzyć (czyli stosujemy lazy loading).\n",
    "\n",
    "1. Zaimplementuj klasę `PneumoniaCustomDataset`, która dziedziczy po klasie `Dataset`.\n",
    "2. Zaimplementuj metodę `__init__`, której argumentami jest zbiór obrazów oraz zbiór odpowiadających im etykiet. Powinny one zostać zapamiętane jak pola obiektu. Dla etykiet wywołaj dodatkowo metodę `.squeeze()`.\n",
    "3. Zaimplementuj metodę `__len__`, która sprawdza liczbę zapamiętanych podczas inicjalizacji obrazów.\n",
    "4. Zaimplementuj metodę `__getitem__`, której argumentem jest indeks pobieranej próbki. W tym miejscu powinniśmy zapewnić, że zwracane próbki są oczekiwanego typu i rozmiaru.\n",
    "5. Zacznij od pobrania obrazu i etykiety o zadanym indeksie.\n",
    "6. Następnie wykonaj konwersję obrazu do tensora za pomocą `transforms.ToTensor()(x)`.\n",
    "7. Wykonaj konwersję etykiet do tensora za pomocą `torch.tensot`. Docelowym typem danych powinien być `torch.long`.\n",
    "8. Zwróć próbkę danych oraz etykietę.\n",
    "9. Poza klasą stwórz 3 datasety: treningowy, walidacyjny i testowy. Dane oraz etykiety można pobrać z wcześniejszych danych, np. `train_set_raw.imgs` lub `train_set_raw.labels`.\n",
    "10. Wyświetl ile elementów zawiera każdy z nich."
   ]
  },
  {
   "cell_type": "code",
   "execution_count": 3,
   "metadata": {},
   "outputs": [],
   "source": [
    "# --- Zadanie 1\n",
    "\n",
    "class PneumoniaCustomDataset(Dataset):\n",
    "    def __init__(self, images, labels):\n",
    "        self.images = images\n",
    "        self.labels = labels.squeeze()\n",
    "\n",
    "    def __len__(self):\n",
    "        return len(self.images)\n",
    "\n",
    "    def __getitem__(self, idx):\n",
    "        image = self.images[idx]\n",
    "        label = self.labels[idx]\n",
    "\n",
    "        image_tensor = transforms.ToTensor()(image)  # [1, 28, 28]\n",
    "\n",
    "        label_tensor = torch.tensor(label, dtype=torch.long)\n",
    "\n",
    "        return image_tensor, label_tensor"
   ]
  },
  {
   "cell_type": "code",
   "execution_count": 4,
   "metadata": {},
   "outputs": [
    {
     "name": "stdout",
     "output_type": "stream",
     "text": [
      "Liczba próbek w zbiorze treningowym:  4708\n",
      "Liczba próbek w zbiorze walidacyjnym:  524\n",
      "Liczba próbek w zbiorze testowym:  624\n"
     ]
    }
   ],
   "source": [
    "train_dataset = PneumoniaCustomDataset(train_set_raw.imgs, train_set_raw.labels)\n",
    "val_dataset   = PneumoniaCustomDataset(val_set_raw.imgs, val_set_raw.labels)\n",
    "test_dataset  = PneumoniaCustomDataset(test_set_raw.imgs, test_set_raw.labels)\n",
    "\n",
    "print(\"Liczba próbek w zbiorze treningowym: \", len(train_dataset))\n",
    "print(\"Liczba próbek w zbiorze walidacyjnym: \", len(val_dataset))\n",
    "print(\"Liczba próbek w zbiorze testowym: \", len(test_dataset))"
   ]
  },
  {
   "cell_type": "markdown",
   "metadata": {},
   "source": [
    "## Zadanie 2 –  DataLoadery: batching, shuffle, num_workers\n",
    "\n",
    "Z kolei celem DataLoaderu jest wydajne dostarczanie batchy danych do treningu. Nie dostarcza on pojedynczych próbek, lecz cały ich zbiór nazywany batchem. Zajmuje sie również mieszaniem danych, żeby nie były przekazywane w tej samej kolejności, pozwala na rónoległe wczytywanie danych i zwraca iterator, dzięki czemu łatwo jest przejść po wszystkich próbkach danych. Do stworzenia DataLoadera wykorzystuje się gotową klasę `DataLoader`. Nie trzeba jej implementować samodzielnie.\n",
    "\n",
    "1. Zacznij od zdefiniowania rozmiaru batchów `BATCH_SIZE` i liczby workerów `NUM_WORKERS`.\n",
    "2. Stwórz 3 DataLoadery - odpowiednio treningowy, walidacyjny i testowy. Pierwszym argumentem powinien być obiekt Dataset wykorzystywany do wczytania danych. Oprócz tego przekazujemy `batch_size`, `shuffle` (wartość boolean), `num_workers` i `pin_memory` (wartość boolean). Mieszania danych (shuffle) używa się tylko dla danych treningowych. `pin_memory` pozwala na szybsze kopiowanie danych w przypadku uczenia na GPU i wtedy warto ustawić `True`.\n",
    "3. Stwórz pętlę przechodzącą po danych treningowych. Pamiętej, że DataLoader zwrócił iterator. Sprawdź rozmiar pojenynczego zestawu treningowego."
   ]
  },
  {
   "cell_type": "code",
   "execution_count": 5,
   "metadata": {},
   "outputs": [],
   "source": [
    "# --- Zadanie 2\n",
    "BATCH_SIZE = 64\n",
    "NUM_WORKERS = 2\n",
    "\n",
    "train_loader = DataLoader(\n",
    "    train_dataset,\n",
    "    batch_size=BATCH_SIZE,\n",
    "    shuffle=True,\n",
    "    num_workers=NUM_WORKERS,\n",
    "    pin_memory=True\n",
    ")\n",
    "\n",
    "val_loader = DataLoader(\n",
    "    val_dataset,\n",
    "    batch_size=BATCH_SIZE,\n",
    "    shuffle=False,\n",
    "    num_workers=NUM_WORKERS,\n",
    "    pin_memory=True\n",
    ")\n",
    "\n",
    "test_loader = DataLoader(\n",
    "    test_dataset,\n",
    "    batch_size=BATCH_SIZE,\n",
    "    shuffle=False,\n",
    "    num_workers=NUM_WORKERS,\n",
    "    pin_memory=True\n",
    ")"
   ]
  },
  {
   "cell_type": "code",
   "execution_count": 6,
   "metadata": {},
   "outputs": [
    {
     "name": "stdout",
     "output_type": "stream",
     "text": [
      "CUDA dostępne: True\n"
     ]
    }
   ],
   "source": [
    "print(\"CUDA dostępne:\", torch.cuda.is_available())"
   ]
  },
  {
   "cell_type": "code",
   "execution_count": 7,
   "metadata": {},
   "outputs": [
    {
     "name": "stdout",
     "output_type": "stream",
     "text": [
      "Rozmiar batcha (obrazy): torch.Size([64, 1, 28, 28])\n",
      "Rozmiar batcha (etykiety): torch.Size([64])\n"
     ]
    }
   ],
   "source": [
    "for batch in train_loader:\n",
    "    images, labels = batch\n",
    "    print(\"Rozmiar batcha (obrazy):\", images.shape)\n",
    "    print(\"Rozmiar batcha (etykiety):\", labels.shape)\n",
    "    break"
   ]
  },
  {
   "cell_type": "markdown",
   "metadata": {},
   "source": [
    "## Zadanie 3 – Prosta sieć CNN\n",
    "\n",
    "Teraz zaimplementujemy prostą sieć konwolucyjną, której celem będzie klasyfikacja pacjentów na podstawie zdjęć jako zdrowi lub chorzy.\n",
    "1. Zaimplementuj klasę `SimpleCNN`, która dziedziczy po klasie `nn.Module`. Taka klasa musi posiadać przynajmniej dwie metody: `__init__`, gdzie zdefiniowane są warstwy i parametry sieci, oraz `forward`, która określa jak dane przepływają przez sieć.\n",
    "2. Stwórz metodę `__init__`, która będzie zawierać dwie warstwy konwolucyjne `nn.Conv2d`, warstwę MaxPool `nn.MaxPool2d` i dwie warstwy liniowe `nn.Linear`. Wybierz rozmiar warstw konwolucyjnych oraz dobierz padding tak, aby rozmiar wyjściowy był taki sam jak wejściowy. Wybierz również liczbę kanałów wyjściowych z tych warstw.\n",
    "3. Dodaj warstwę pooling, tak, żeby zmniejszyła rozmiar o połowę.\n",
    "4. Stwórz dwie warstwy w pełni połączone. Rozmiar wejścia pierwszej z nich powinien być równy rozmiarowi pomnożonemu przez liczbę kanałów. Dobierz liczbę kanałów na wyjściu. Ostatnia warstwa powinna mieć na wyjściu tylko dwa kanały.\n",
    "5. Zaimplementuj metodę `forward`, której arguemntem jest próbka do przetworzenia. Wejście najpierw wchodzi na pierwszą warstwę konwolucyjną, później idzie do funkcji aktywacji ReLU `F.relu`, a dalej do warstwy poolingowej.\n",
    "Następnie te same operacje wykonujemy dla drugiej warstwy konwolucyjnej. Dalej spłaszczamy dane przed podaniem ich do warstwy w pełni połączonej `torch.flatten` (drugim argumentem powinno być `1`, żeby nie usunąć wymiaru batch). Po pierwszej z tych warstw wykorzystujemy funkcję aktywacji ReLU, a następnie podajnemy na drugą z tych warstw i zwracamy jej wynik.\n",
    "6. Cały schemat wygląda następująco: (1, 28, 28) --> Conv2d --> ReLU--> MaxPool2d(2x2) --> Conv2d --> ReLU --> MaxPool2d(2x2) --> Flatten --> Linear --> ReLU --> Linear --> logits.\n",
    "7. Poza klasą wybierz urządzenie na którym sieć ma być uruchomiona: `device = 'cuda' if torch.cuda.is_available() else 'cpu'`.\n",
    "8. Stwórz instancję sieci i załaduj ją do wybranego urządzenia za pomocą metody `.to`\n",
    "9. Zdefiniuj funkcję straty jako `nn.CrossEntropyLoss()` i optymalizator jako `torch.optim.Adam`. Pierwszym argumentem optymalizatora są parametry sieci `.parameters()`, a drugim `lr`, czyli learning rate, określający jak szybko parametry modelu mają się zmieniać.\n",
    "10. Wypisz warstwy modelu za pomocą `print`."
   ]
  },
  {
   "cell_type": "code",
   "execution_count": 8,
   "metadata": {},
   "outputs": [
    {
     "name": "stdout",
     "output_type": "stream",
     "text": [
      "Urządzenie: cuda\n",
      "SimpleCNN(\n",
      "  (conv1): Conv2d(1, 16, kernel_size=(3, 3), stride=(1, 1), padding=(1, 1))\n",
      "  (conv2): Conv2d(16, 32, kernel_size=(3, 3), stride=(1, 1), padding=(1, 1))\n",
      "  (pool): MaxPool2d(kernel_size=2, stride=2, padding=0, dilation=1, ceil_mode=False)\n",
      "  (fc1): Linear(in_features=1568, out_features=128, bias=True)\n",
      "  (fc2): Linear(in_features=128, out_features=2, bias=True)\n",
      ")\n"
     ]
    }
   ],
   "source": [
    "# --- Zadanie 3\n",
    "class SimpleCNN(nn.Module):\n",
    "    def __init__(self):\n",
    "        super(SimpleCNN, self).__init__()\n",
    "        self.conv1 = nn.Conv2d(in_channels=1, out_channels=16, kernel_size=3, padding=1)\n",
    "        self.conv2 = nn.Conv2d(in_channels=16, out_channels=32, kernel_size=3, padding=1)\n",
    "        self.pool = nn.MaxPool2d(kernel_size=2, stride=2)\n",
    "        self.fc1 = nn.Linear(32 * 7 * 7, 128)\n",
    "        self.fc2 = nn.Linear(128, 2)\n",
    "\n",
    "    def forward(self, x):\n",
    "        x = self.pool(F.relu(self.conv1(x)))\n",
    "        x = self.pool(F.relu(self.conv2(x)))\n",
    "        x = torch.flatten(x, 1)\n",
    "        x = F.relu(self.fc1(x))\n",
    "        x = self.fc2(x)\n",
    "        \n",
    "        return x\n",
    "\n",
    "device = 'cuda' if torch.cuda.is_available() else 'cpu'\n",
    "print(\"Urządzenie:\", device)\n",
    "\n",
    "model = SimpleCNN().to(device)\n",
    "\n",
    "criterion = nn.CrossEntropyLoss()\n",
    "optimizer = torch.optim.Adam(model.parameters(), lr=0.001)\n",
    "\n",
    "print(model)\n"
   ]
  },
  {
   "cell_type": "markdown",
   "metadata": {},
   "source": [
    "## Zadanie 4 – Trening\n",
    "\n",
    "Teraz konieczne jest przeprowadzenie treningu zdefiniowanego modelu.\n",
    "\n",
    "1. Zaimplementuj funkcję `run_epoch`, której zadaniem będzie wykonanie pojedynczej epoki treningu. Epoka to jedno pełne przejście modelu przez cały zbiór treningowy. Jej argumentami są: model sieci, DataLoader, optymalizator i urządzenie na którym sieć jest uruchomiona. Zakłądamy, że optymalizator jest przekazywany tylko w przypadku treningu, natomiast podczas ewaluacji wynosi `None`.\n",
    "2. Na początku funkcji sprawdź czy optymalizator nie jest `None`, a więc czy sieć powinna być uczona w tym wywołaniu funkcji.\n",
    "3. Jeśli ma być uczona, to ustaw ją w tryb treningu za pomocą metody `.train`. Jako argument podaj wynik wcześniejszego sprawdzenia.\n",
    "4. Zainicjalizuj `lossTotal`, `correctTotal` i `total` jako 0.0.\n",
    "5. Napisz pętlę, która przetwarza wszystkie dane z przekazanego DataLoadera.\n",
    "6. Prześlij dane do urządzenia za pomocą metody `.to`.\n",
    "7. Jeśli sieć ma być trenowana, to wyzeruj gradienty w optymalizatorze metodą `.zero_grad()`.\n",
    "8. Oblicz wyjście sieci dla danego wejścia.\n",
    "9. Olicz stratę dla przetworzonych danych za pomocą wybranej funkcji straty. Pierwszym argumentem jest wyście sieci, a drugim rzeczywiste etykiety.\n",
    "10. Jeśli sieć ma być uczona, to oblicz gradienty funkcji straty względem parametrów sieci i wykonaj krok optymalizatora. W tym celu wywołaj metodę `.backward()` obliczonej straty,a  następnie wywołaj metodę `.step()` optymalizatora.\n",
    "11. Dodaj obliczoną stratę do `lossTotal`.\n",
    "12. Sprawdź predykcje sieci dla przetworzonych danych. W tym celu wykorzystaj metodę `.argmax` względem wymiaru odpowiedzialnego za batch (jest on argumentem metody).\n",
    "13. Sprawdź ile predykcji było poprawnych. Porównaj wynik z poprzedniego punktu z etykietami, a następnie zsumuj wyniki porównania. Następnie skonwertuj wynikowy tensor na liczbę za pomocą metody `.item()` i dodaj wynik do `correctTotal`.\n",
    "14. Zaktualizuj liczbę wszystkich przetworzonych próbek `total`.\n",
    "15. Zwróć 'lossTotal' i 'correctTotal' podzielone przez liczbę przetworzonych próbek.\n",
    "16. Poza definicją funkcji zdefiniuj liczbę epok treningu. W naszym prostym przypadku powinny wystarczyć 2.\n",
    "17. Zaimplementuj pętlę, która wykona się tyle razy ile zdefiniowana liczba epok.\n",
    "18. W każdej iteracji pętli wywołaj zaimplementowaną funkcję dla zbioru treningowego. Następnie wyłącz oblicznie gradientów `with torch.no_grad():` i wewnątrz wywołaj tą samą funkcję dla zbioru walidacyjnego.\n",
    "19. Na koniec pętli, po każdej epoce, wyświetl numer epoki, stratę i dokładność zarówno dla zbioru treningowego, jak i walidacyjnego."
   ]
  },
  {
   "cell_type": "code",
   "execution_count": 9,
   "metadata": {},
   "outputs": [],
   "source": [
    "# --- Zadanie 4\n",
    "def run_epoch(model, dataloader, optimizer, device):\n",
    "    is_training = optimizer is not None\n",
    "    \n",
    "    model.train(is_training)\n",
    "    \n",
    "    lossTotal = 0.0\n",
    "    correctTotal = 0\n",
    "    total = 0\n",
    "\n",
    "    for images, labels in dataloader:\n",
    "        images = images.to(device)\n",
    "        labels = labels.to(device)\n",
    "\n",
    "        if is_training:\n",
    "            optimizer.zero_grad()\n",
    "\n",
    "        outputs = model(images)\n",
    "        loss = criterion(outputs, labels)\n",
    "        if is_training:\n",
    "            loss.backward()\n",
    "            optimizer.step()\n",
    "\n",
    "\n",
    "        lossTotal += loss.item() * images.size(0)\n",
    "        predictions = outputs.argmax(dim=1)\n",
    "        correctTotal += (predictions == labels).sum().item()\n",
    "        total += labels.size(0)\n",
    "\n",
    "    avg_loss = lossTotal / total\n",
    "    accuracy = correctTotal / total\n",
    "\n",
    "    return avg_loss, accuracy"
   ]
  },
  {
   "cell_type": "code",
   "execution_count": 11,
   "metadata": {},
   "outputs": [
    {
     "name": "stdout",
     "output_type": "stream",
     "text": [
      "Epoka 1/10\n",
      "  Trening   -> strata: 0.1518, dokładność: 94.10%\n",
      "  Walidacja -> strata: 0.1351, dokładność: 95.42%\n",
      "--------------------------------------------------\n",
      "Epoka 2/10\n",
      "  Trening   -> strata: 0.1368, dokładność: 94.75%\n",
      "  Walidacja -> strata: 0.1306, dokładność: 94.85%\n",
      "--------------------------------------------------\n",
      "Epoka 3/10\n",
      "  Trening   -> strata: 0.1308, dokładność: 94.84%\n",
      "  Walidacja -> strata: 0.1243, dokładność: 94.66%\n",
      "--------------------------------------------------\n",
      "Epoka 4/10\n",
      "  Trening   -> strata: 0.1190, dokładność: 95.48%\n",
      "  Walidacja -> strata: 0.1114, dokładność: 96.18%\n",
      "--------------------------------------------------\n",
      "Epoka 5/10\n",
      "  Trening   -> strata: 0.1153, dokładność: 95.48%\n",
      "  Walidacja -> strata: 0.1803, dokładność: 93.51%\n",
      "--------------------------------------------------\n",
      "Epoka 6/10\n",
      "  Trening   -> strata: 0.1170, dokładność: 95.50%\n",
      "  Walidacja -> strata: 0.1168, dokładność: 95.42%\n",
      "--------------------------------------------------\n",
      "Epoka 7/10\n",
      "  Trening   -> strata: 0.1033, dokładność: 95.94%\n",
      "  Walidacja -> strata: 0.0997, dokładność: 95.99%\n",
      "--------------------------------------------------\n",
      "Epoka 8/10\n",
      "  Trening   -> strata: 0.1084, dokładność: 95.79%\n",
      "  Walidacja -> strata: 0.1005, dokładność: 96.37%\n",
      "--------------------------------------------------\n",
      "Epoka 9/10\n",
      "  Trening   -> strata: 0.0994, dokładność: 96.11%\n",
      "  Walidacja -> strata: 0.0997, dokładność: 96.56%\n",
      "--------------------------------------------------\n",
      "Epoka 10/10\n",
      "  Trening   -> strata: 0.0928, dokładność: 96.60%\n",
      "  Walidacja -> strata: 0.1015, dokładność: 95.42%\n",
      "--------------------------------------------------\n"
     ]
    }
   ],
   "source": [
    "NUM_EPOCHS = 10\n",
    "\n",
    "for epoch in range(1, NUM_EPOCHS + 1):\n",
    "    train_loss, train_acc = run_epoch(model, train_loader, optimizer, device)\n",
    "    \n",
    "    with torch.no_grad():\n",
    "        val_loss, val_acc = run_epoch(model, val_loader, None, device)\n",
    "    \n",
    "    print(f\"Epoka {epoch}/{NUM_EPOCHS}\")\n",
    "    print(f\"  Trening   -> strata: {train_loss:.4f}, dokładność: {train_acc*100:.2f}%\")\n",
    "    print(f\"  Walidacja -> strata: {val_loss:.4f}, dokładność: {val_acc*100:.2f}%\")\n",
    "    print(\"-\" * 50)\n"
   ]
  },
  {
   "cell_type": "markdown",
   "metadata": {},
   "source": [
    "## Zadanie 5 – Ewaluacja (accuracy, macierz pomyłek)\n",
    "\n",
    "Kolejnym elementem jest sprawdzenie skuteczności zaprojektowanego rozwiązania dla zbioru testowego.\n",
    "\n",
    "1. Przełącz model w tryb ewaluacji za pomocą metody `.eval()`.\n",
    "2. Zainicjalizuj wartości `correct` i `total` jako 0. Zaincjalizuj również `cm` jako zerową macierz o rozmiarze $2 \\times 2$. W zmiennej `cm` przechowywać będziemy macierz pomyłek. Jest to tabela, w której porównuje się rzeczywiste etykiety z predykcjami modelu.\n",
    "3. Wyłącz obliczanie gradientów w bloku kodu za pomocą `with torch.no_grad():`. Wewnątrz tego bloku wykonaj przejście po zbiorze testowym. Przedykcje modelu (po `.argmax`) prześlij na CPU za pomocą metody `.cpu()`. Upewnij się, że etykiety również są na CPU wywołując `.cpu()`.\n",
    "4. Oblicz `correct` i `total` podobnie jak w poprzednim zadaniu.\n",
    "5. Oprócz tego musimy zaktualizować macierz pomyłek. W tym celu do aktualnej macierzy dodajemy nową macierz, utworzoną na podstawie predykcji i etykiet. Macierz pomyłek tworzymy za pomocą funkcji `confusion_matrix`. Pierwszym argumentem są rzeczywiste etykiety, drugim są obliczone predykcje, a trzecim jest wektor etykiet `labels` (w naszym przypadku `[0, 1]`).\n",
    "6. Na zewnątrz pętli oblicz i wyświetl dokładność dla zbioru testowego.\n",
    "7. Na koniec wyświetl macierz pomyłek. Stwórz wizualizację za pomocą funkcji `ConfusionMatrixDisplay`. Jako argument `confusion_matrix` podaj wyznaczoną macierz pomyłek, a jako argument `display_labels` podaj wektor nazw dla klas `['normal','pneumonia']`. Wyświetl wynik za pomocą metody `.plot()`, a następnie `plt.show()`."
   ]
  },
  {
   "cell_type": "code",
   "execution_count": 12,
   "metadata": {},
   "outputs": [
    {
     "name": "stdout",
     "output_type": "stream",
     "text": [
      "Dokładność modelu na zbiorze testowym: 85.26%\n"
     ]
    },
    {
     "data": {
      "image/png": "[encoded data removed]",
      "text/plain": [
       "<Figure size 640x480 with 2 Axes>"
      ]
     },
     "metadata": {},
     "output_type": "display_data"
    }
   ],
   "source": [
    "# --- Zadanie 5\n",
    "\n",
    "model.eval()\n",
    "correct = 0\n",
    "total = 0\n",
    "cm = np.zeros((2, 2), dtype=int)\n",
    "\n",
    "with torch.no_grad():\n",
    "    for images, labels in test_loader:\n",
    "        images = images.to(device)\n",
    "        labels = labels.to(device)\n",
    "        outputs = model(images)\n",
    "        predictions = outputs.argmax(dim=1)\n",
    "        correct += (predictions == labels).sum().item()\n",
    "        total += labels.size(0)\n",
    "        preds_cpu = predictions.cpu().numpy()\n",
    "        labels_cpu = labels.cpu().numpy()\n",
    "        cm += confusion_matrix(labels_cpu, preds_cpu, labels=[0, 1])\n",
    "\n",
    "accuracy = correct / total\n",
    "print(f\"Dokładność modelu na zbiorze testowym: {accuracy * 100:.2f}%\")\n",
    "\n",
    "disp = ConfusionMatrixDisplay(confusion_matrix=cm, display_labels=['normal', 'pneumonia'])\n",
    "disp.plot(cmap='Blues', values_format='d')\n",
    "plt.title(\"Macierz pomyłek – zbiór testowy\")\n",
    "plt.show()\n"
   ]
  },
  {
   "cell_type": "markdown",
   "metadata": {},
   "source": [
    "## Zadanie 6 – Zapis modelu\n",
    "\n",
    "Ostatnim etapem jest zapisanie słownika z parametrami modelu.\n",
    "1. Zdefiniuj ścieżkę do pliku.\n",
    "2. Pobierz słownik z parametrami za pomocą metody `.state_dict()`.\n",
    "3. Zapisz słownik za pomocą funkcji `torch.save`."
   ]
  },
  {
   "cell_type": "code",
   "execution_count": null,
   "metadata": {},
   "outputs": [
    {
     "name": "stdout",
     "output_type": "stream",
     "text": [
      "Model został zapisany do pliku: simple_cnn_model\n"
     ]
    }
   ],
   "source": [
    "# --- Zadanie 6\n",
    "model_path = \"simple_cnn_model\"\n",
    "model_state = model.state_dict()\n",
    "torch.save(model_state, model_path)\n",
    "\n",
    "print(f\"Model został zapisany do pliku: {model_path}\")\n"
   ]
  },
  {
   "cell_type": "markdown",
   "metadata": {},
   "source": [
    "## Zadanie 7 – Wykonaj podobną klasyfikację dla zbioru danych OrganMNIST3D\n",
    "\n",
    "Poniższy kod automatycznie pobiera dane."
   ]
  },
  {
   "cell_type": "code",
   "execution_count": null,
   "metadata": {},
   "outputs": [
    {
     "name": "stdout",
     "output_type": "stream",
     "text": [
      "Opis: The source of the OrganMNIST3D is the same as that of the Organ{A,C,S}MNIST. Instead of 2D images, we directly use the 3D bounding boxes and process the images into 28×28×28 to perform multi-class classification of 11 body organs. The same 115 and 16 CT scans as the Organ{A,C,S}MNIST from the source training set are used as training and validation set, respectively, and the same 70 CT scans as the Organ{A,C,S}MNIST from the source test set are treated as the test set.\n",
      "Liczba klas: 11 ; klasy: {'0': 'liver', '1': 'kidney-right', '2': 'kidney-left', '3': 'femur-right', '4': 'femur-left', '5': 'bladder', '6': 'heart', '7': 'lung-right', '8': 'lung-left', '9': 'spleen', '10': 'pancreas'}\n"
     ]
    },
    {
     "name": "stderr",
     "output_type": "stream",
     "text": [
      "100%|██████████| 32.7M/32.7M [00:08<00:00, 3.68MB/s]\n"
     ]
    },
    {
     "name": "stdout",
     "output_type": "stream",
     "text": [
      "Rozmiar obrazów: (1, 28, 28, 28)\n",
      "Rozmiary: 971 161 610\n"
     ]
    },
    {
     "data": {
      "image/png": "[encoded data removed]",
      "text/plain": [
       "<Figure size 900x300 with 3 Axes>"
      ]
     },
     "metadata": {},
     "output_type": "display_data"
    },
    {
     "name": "stdout",
     "output_type": "stream",
     "text": [
      "Przykładowa etykieta: 3\n"
     ]
    }
   ],
   "source": [
    "from medmnist import OrganMNIST3D, INFO\n",
    "\n",
    "DATA_ROOT = \"./data/medmnist\"\n",
    "os.makedirs(DATA_ROOT, exist_ok=True)\n",
    "\n",
    "info = INFO['organmnist3d']\n",
    "print(\"Opis:\", info['description'])\n",
    "num_classes = len(info['label'])\n",
    "print(\"Liczba klas:\", num_classes, \"; klasy:\", info['label'])\n",
    "\n",
    "# Print image shape using the first image in the train set\n",
    "sample_img, _ = OrganMNIST3D(split='train', download=True, root=DATA_ROOT, as_rgb=False)[0]\n",
    "print(\"Rozmiar obrazów:\", np.array(sample_img).shape)\n",
    "\n",
    "to_float32 = lambda x: torch.tensor(x, dtype=torch.float32) / 255.0\n",
    "\n",
    "train_raw = OrganMNIST3D(split='train', download=True, root=DATA_ROOT, as_rgb=False, transform=to_float32)\n",
    "val_raw   = OrganMNIST3D(split='val',   download=True, root=DATA_ROOT, as_rgb=False, transform=to_float32)\n",
    "test_raw  = OrganMNIST3D(split='test',  download=True, root=DATA_ROOT, as_rgb=False, transform=to_float32)\n",
    "\n",
    "print(\"Rozmiary:\", len(train_raw), len(val_raw), len(test_raw))\n",
    "\n",
    "# Szybki podgląd wolumenu 3D (3 losowe przekroje axial)\n",
    "sample_vol, sample_y = train_raw[0]   # numpy array shape (1,28,28,28), label np.int\n",
    "z_slices = sorted(random.sample(range(sample_vol.shape[-1]), 3))\n",
    "fig, axes = plt.subplots(1, 3, figsize=(9,3))\n",
    "for ax, z in zip(axes, z_slices):\n",
    "    ax.imshow(sample_vol[0, :, :, z], cmap='gray')\n",
    "    ax.set_title(f\"z={z}\")\n",
    "    ax.axis('off')\n",
    "plt.tight_layout(); plt.show()\n",
    "print(\"Przykładowa etykieta:\", int(sample_y.squeeze().item()))"
   ]
  },
  {
   "cell_type": "markdown",
   "metadata": {},
   "source": [
    "## Zadanie 8 – Stwórz DataLoader dla zbioru danych OrganMNIST3D\n",
    "\n",
    "Nie musisz pisać własnego Datasetu. Skorzystaj ze zwracanych przez funkcję `OrganMNIST3D`. Zwróć jaki teraz jest kształt danych."
   ]
  },
  {
   "cell_type": "code",
   "execution_count": null,
   "metadata": {},
   "outputs": [
    {
     "name": "stdout",
     "output_type": "stream",
     "text": [
      "Kształt batcha obrazów: torch.Size([8, 1, 28, 28, 28])\n",
      "Kształt batcha etykiet: torch.Size([8, 1])\n"
     ]
    }
   ],
   "source": [
    "# --- Zadanie 8\n",
    "BATCH_SIZE = 8\n",
    "NUM_WORKERS = 2\n",
    "\n",
    "train_loader = DataLoader(train_raw, batch_size=BATCH_SIZE, shuffle=True, num_workers=NUM_WORKERS)\n",
    "val_loader   = DataLoader(val_raw,   batch_size=BATCH_SIZE, shuffle=False, num_workers=NUM_WORKERS)\n",
    "test_loader  = DataLoader(test_raw,  batch_size=BATCH_SIZE, shuffle=False, num_workers=NUM_WORKERS)\n",
    "\n",
    "for imgs, labels in train_loader:\n",
    "    print(\"Kształt batcha obrazów:\", imgs.shape)\n",
    "    print(\"Kształt batcha etykiet:\", labels.shape)\n",
    "    break"
   ]
  },
  {
   "cell_type": "markdown",
   "metadata": {},
   "source": [
    "## Zadanie 9 – Stwórz prostą sieć dla zbioru danych OrganMNIST3D\n",
    "\n",
    "Zamiast `nn.Conv2d` wykorzystaj `nn.Conv3d`, a zamiast `nn.MaxPool2d` użyj `nn.MaxPool3d`."
   ]
  },
  {
   "cell_type": "code",
   "execution_count": 26,
   "metadata": {},
   "outputs": [],
   "source": [
    "# --- Zadanie 9\n",
    "class SimpleCNN3D(nn.Module):\n",
    "    def __init__(self, num_classes):\n",
    "        super(SimpleCNN3D, self).__init__()\n",
    "        self.conv1 = nn.Conv3d(in_channels=1, out_channels=16, kernel_size=3, padding=1)\n",
    "        self.conv2 = nn.Conv3d(in_channels=16, out_channels=32, kernel_size=3, padding=1)\n",
    "        self.pool = nn.MaxPool3d(kernel_size=2, stride=2)\n",
    "        self.fc1 = nn.Linear(32 * 7 * 7 * 7, 128)\n",
    "        self.fc2 = nn.Linear(128, num_classes)\n",
    "\n",
    "    def forward(self, x):\n",
    "        x = self.pool(F.relu(self.conv1(x)))\n",
    "        x = self.pool(F.relu(self.conv2(x)))\n",
    "        x = torch.flatten(x, 1)\n",
    "        x = F.relu(self.fc1(x))\n",
    "        x = self.fc2(x)\n",
    "        return x"
   ]
  },
  {
   "cell_type": "markdown",
   "metadata": {},
   "source": [
    "## Zadanie 10 – Wykonaj trening sieci dla zbioru danych OrganMNIST3D\n",
    "\n",
    "W tym przypadku może być potrzebne 20 epok."
   ]
  },
  {
   "cell_type": "code",
   "execution_count": 29,
   "metadata": {},
   "outputs": [],
   "source": [
    "def run_epoch(model, dataloader, optimizer, device):\n",
    "    is_training = optimizer is not None\n",
    "    model.train(is_training)\n",
    "\n",
    "    loss_total = 0.0\n",
    "    correct_total = 0\n",
    "    total = 0\n",
    "\n",
    "    for images, labels in dataloader:\n",
    "        images = images.to(device)\n",
    "        labels = labels.view(-1).long().to(device)\n",
    "\n",
    "        if is_training:\n",
    "            optimizer.zero_grad()\n",
    "\n",
    "        outputs = model(images)\n",
    "        loss = criterion(outputs, labels)\n",
    "\n",
    "        if is_training:\n",
    "            loss.backward()\n",
    "            optimizer.step()\n",
    "\n",
    "        loss_total += loss.item() * images.size(0)\n",
    "        preds = outputs.argmax(dim=1)\n",
    "        correct_total += (preds == labels).sum().item()\n",
    "        total += labels.size(0)\n",
    "\n",
    "    avg_loss = loss_total / total\n",
    "    accuracy = correct_total / total\n",
    "    return avg_loss, accuracy"
   ]
  },
  {
   "cell_type": "code",
   "execution_count": 30,
   "metadata": {},
   "outputs": [
    {
     "name": "stdout",
     "output_type": "stream",
     "text": [
      "Epoka 1/20\n",
      "  Trening   -> strata: 2.3362, dokładność: 12.36%\n",
      "  Walidacja -> strata: 2.4229, dokładność: 9.94%\n",
      "--------------------------------------------------\n",
      "Epoka 2/20\n",
      "  Trening   -> strata: 2.3380, dokładność: 12.26%\n",
      "  Walidacja -> strata: 2.4597, dokładność: 8.70%\n",
      "--------------------------------------------------\n",
      "Epoka 3/20\n",
      "  Trening   -> strata: 2.3370, dokładność: 11.02%\n",
      "  Walidacja -> strata: 2.4810, dokładność: 9.94%\n",
      "--------------------------------------------------\n",
      "Epoka 4/20\n",
      "  Trening   -> strata: 2.3330, dokładność: 10.81%\n",
      "  Walidacja -> strata: 2.4347, dokładność: 9.94%\n",
      "--------------------------------------------------\n",
      "Epoka 5/20\n",
      "  Trening   -> strata: 2.3360, dokładność: 11.23%\n",
      "  Walidacja -> strata: 2.4517, dokładność: 9.94%\n",
      "--------------------------------------------------\n",
      "Epoka 6/20\n",
      "  Trening   -> strata: 2.3364, dokładność: 10.40%\n",
      "  Walidacja -> strata: 2.4179, dokładność: 9.94%\n",
      "--------------------------------------------------\n",
      "Epoka 7/20\n",
      "  Trening   -> strata: 2.3092, dokładność: 12.77%\n",
      "  Walidacja -> strata: 2.3124, dokładność: 10.56%\n",
      "--------------------------------------------------\n",
      "Epoka 8/20\n",
      "  Trening   -> strata: 1.9580, dokładność: 28.12%\n",
      "  Walidacja -> strata: 1.4374, dokładność: 46.58%\n",
      "--------------------------------------------------\n",
      "Epoka 9/20\n",
      "  Trening   -> strata: 1.4450, dokładność: 50.77%\n",
      "  Walidacja -> strata: 0.8293, dokładność: 72.05%\n",
      "--------------------------------------------------\n",
      "Epoka 10/20\n",
      "  Trening   -> strata: 0.9878, dokładność: 66.63%\n",
      "  Walidacja -> strata: 0.6368, dokładność: 79.50%\n",
      "--------------------------------------------------\n",
      "Epoka 11/20\n",
      "  Trening   -> strata: 0.8428, dokładność: 72.50%\n",
      "  Walidacja -> strata: 0.4106, dokładność: 90.68%\n",
      "--------------------------------------------------\n",
      "Epoka 12/20\n",
      "  Trening   -> strata: 0.7066, dokładność: 75.90%\n",
      "  Walidacja -> strata: 0.2877, dokładność: 95.65%\n",
      "--------------------------------------------------\n",
      "Epoka 13/20\n",
      "  Trening   -> strata: 0.6325, dokładność: 79.40%\n",
      "  Walidacja -> strata: 0.2655, dokładność: 96.89%\n",
      "--------------------------------------------------\n",
      "Epoka 14/20\n",
      "  Trening   -> strata: 0.6115, dokładność: 79.20%\n",
      "  Walidacja -> strata: 0.3089, dokładność: 91.93%\n",
      "--------------------------------------------------\n",
      "Epoka 15/20\n",
      "  Trening   -> strata: 0.5528, dokładność: 79.92%\n",
      "  Walidacja -> strata: 0.2955, dokładność: 91.93%\n",
      "--------------------------------------------------\n",
      "Epoka 16/20\n",
      "  Trening   -> strata: 0.5338, dokładność: 81.36%\n",
      "  Walidacja -> strata: 0.2411, dokładność: 94.41%\n",
      "--------------------------------------------------\n",
      "Epoka 17/20\n",
      "  Trening   -> strata: 0.4772, dokładność: 84.65%\n",
      "  Walidacja -> strata: 0.2982, dokładność: 92.55%\n",
      "--------------------------------------------------\n",
      "Epoka 18/20\n",
      "  Trening   -> strata: 0.4348, dokładność: 85.38%\n",
      "  Walidacja -> strata: 0.2371, dokładność: 93.17%\n",
      "--------------------------------------------------\n",
      "Epoka 19/20\n",
      "  Trening   -> strata: 0.3845, dokładność: 86.82%\n",
      "  Walidacja -> strata: 0.1973, dokładność: 93.79%\n",
      "--------------------------------------------------\n",
      "Epoka 20/20\n",
      "  Trening   -> strata: 0.3801, dokładność: 87.23%\n",
      "  Walidacja -> strata: 0.1533, dokładność: 95.65%\n",
      "--------------------------------------------------\n"
     ]
    }
   ],
   "source": [
    "# --- Zadanie 10\n",
    "NUM_EPOCHS = 20\n",
    "\n",
    "for epoch in range(1, NUM_EPOCHS + 1):\n",
    "    train_loss, train_acc = run_epoch(model3d, train_loader, optimizer, device)\n",
    "\n",
    "    with torch.no_grad():\n",
    "        val_loss, val_acc = run_epoch(model3d, val_loader, None, device)\n",
    "\n",
    "    print(f\"Epoka {epoch}/{NUM_EPOCHS}\")\n",
    "    print(f\"  Trening   -> strata: {train_loss:.4f}, dokładność: {train_acc*100:.2f}%\")\n",
    "    print(f\"  Walidacja -> strata: {val_loss:.4f}, dokładność: {val_acc*100:.2f}%\")\n",
    "    print(\"-\" * 50)"
   ]
  },
  {
   "cell_type": "markdown",
   "metadata": {},
   "source": [
    "## Zadanie 11 – Sprawdź dokładność i macierz pomyłek dla zbioru danych OrganMNIST3D"
   ]
  },
  {
   "cell_type": "code",
   "execution_count": 32,
   "metadata": {},
   "outputs": [
    {
     "name": "stdout",
     "output_type": "stream",
     "text": [
      "Dokładność modelu 3D na zbiorze testowym: 78.20%\n"
     ]
    },
    {
     "data": {
      "image/png": "[encoded data removed]",
      "text/plain": [
       "<Figure size 640x480 with 2 Axes>"
      ]
     },
     "metadata": {},
     "output_type": "display_data"
    }
   ],
   "source": [
    "# --- Zadanie 11\n",
    "model3d.eval()\n",
    "\n",
    "correct = 0\n",
    "total = 0\n",
    "num_classes = len(info['label'])\n",
    "cm = np.zeros((num_classes, num_classes), dtype=int)\n",
    "\n",
    "with torch.no_grad():\n",
    "    for images, labels in test_loader:\n",
    "        images = images.to(device)\n",
    "        labels = labels.view(-1).long().to(device)\n",
    "\n",
    "        outputs = model3d(images)\n",
    "        preds = outputs.argmax(dim=1)\n",
    "        correct += (preds == labels).sum().item()\n",
    "        total += labels.size(0)\n",
    "        preds_cpu = preds.cpu().numpy()\n",
    "        labels_cpu = labels.cpu().numpy()\n",
    "        cm += confusion_matrix(labels_cpu, preds_cpu, labels=list(range(num_classes)))\n",
    "\n",
    "accuracy = correct / total\n",
    "print(f\"Dokładność modelu 3D na zbiorze testowym: {accuracy * 100:.2f}%\")\n",
    "\n",
    "class_labels = list(info['label'].values())\n",
    "disp = ConfusionMatrixDisplay(confusion_matrix=cm, display_labels=class_labels)\n",
    "disp.plot(cmap='Blues', values_format='d', xticks_rotation=45)\n",
    "plt.title(\"Macierz pomyłek – OrganMNIST3D (zbiór testowy)\")\n",
    "plt.tight_layout()\n",
    "plt.show()\n"
   ]
  }
 ],
 "metadata": {
  "kernelspec": {
   "display_name": "venv",
   "language": "python",
   "name": "python3"
  },
  "language_info": {
   "codemirror_mode": {
    "name": "ipython",
    "version": 3
   },
   "file_extension": ".py",
   "mimetype": "text/x-python",
   "name": "python",
   "nbconvert_exporter": "python",
   "pygments_lexer": "ipython3",
   "version": "3.10.12"
  }
 },
 "nbformat": 4,
 "nbformat_minor": 2
}
