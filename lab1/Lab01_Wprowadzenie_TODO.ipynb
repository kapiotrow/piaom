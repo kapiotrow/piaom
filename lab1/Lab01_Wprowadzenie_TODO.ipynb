{
 "cells": [
  {
   "cell_type": "markdown",
   "id": "4ce9812f",
   "metadata": {},
   "source": [
    "# Laboratorium 01 — Wprowadzenie do analizy obrazów medycznych (DICOM i NIfTI)\n",
    "\n",
    "W tym laboratorium rozpoczniemy pracę z medycznymi danymi obrazowymi. Poznamy podstawowe formaty (DICOM, NIfTI), sposoby wczytywania i eksploracji wolumenów 3D, przegląd najważniejszych metadanych oraz wykonamy proste przekształcenia i wizualizacje.\n",
    "\n",
    "## Cele nauczania\n",
    "- Zrozumienie różnic między formatami DICOM i NIfTI oraz kiedy ich używać.\n",
    "- Wczytywanie obrazów z użyciem bibliotek: pydicom, SimpleITK, nibabel, nilearn.\n",
    "- Odczyt i interpretacja metadanych.\n",
    "- Podstawowe operacje na danych 3D: wybór przekrojów, progowanie, obliczanie gradientów (Sobel), przepróbkowanie (interpolacja danych).\n",
    "- Przegląd i zapis danych do plików NIfTI.\n",
    "\n",
    "## Zakres i przepływ pracy\n",
    "1. DICOM: wczytanie pojedynczych plików, przegląd nagłówka i pikseli (pydicom, SimpleITK)\n",
    "2. NIfTI: wczytanie wolumenu, macierz affine, orientacje, podstawowe przekroje (nibabel)\n",
    "3. Wizualizacja 2D/3D: przekroje osiowe/koronalne/strzałkowe, proste układy figur (matplotlib, opcjonalnie nilearn)\n",
    "4. Proste przekształcenia: progowanie, filtr Sobela 3D, filtracja medianowa\n",
    "5. Resamplowanie i zapis: izotropizacja voxeli, zapis przetworzonych danych do NIfTI\n",
    "\n",
    "## Dane do ćwiczeń\n",
    "Dane powinny pobrać się automatycznie w ramach skryptu. Znajdują się one w folderze data lub /content/data (w przypadku Google Colab).\n",
    "\n",
    "## Wymagane narzędzia i biblioteki\n",
    "- Python 3.9+ oraz:\n",
    "  - numpy, matplotlib\n",
    "  - pydicom, SimpleITK\n",
    "  - nibabel, nilearn\n",
    "- Biblioteki należy zainstalować na początku skryptu jeśli pracujesz w Google Colab. Jeśli pracujesz lokalnie, to warto stworzyć środowisko conda lub venv.\n",
    "\n",
    "## Typowe pułapki i wskazówki\n",
    "- Orientacje i układy współrzędnych: DICOM zwykle używa LPS, wiele narzędzi neuro (nibabel/nilearn) preferuje RAS. Nie mieszaj konwencji bez kontroli affine.\n",
    "- Jednostki i skale intensywności: CT (HU - Hounsfield Units) vs MR (wartości względne). Normalizuj lub standaryzuj dane przed progowaniem/filtracją.\n",
    "- Spójny spacing: przed analizą porównawczą rozważ resamplowanie do voxeli izotropowych (np. 1×1×1 mm).\n",
    "- Pamięć i wydajność: pracujemy na małych przykładach, ale na większych danych stosuje się lazy loading (dane nie są wczytywane od razu, tylko po wywołaniu), ogranicza rozmiar figur i liczbę kopii tablic.\n",
    "\n",
    "Powodzenia! W kolejnych sekcjach przejdziemy od wczytania plików po zapis przetworzonych wolumenów i krótką analizę."
   ]
  },
  {
   "cell_type": "markdown",
   "id": "c427f724",
   "metadata": {},
   "source": [
    "## 0) Instalacja bibliotek (jeśli potrzebne)"
   ]
  },
  {
   "cell_type": "code",
   "execution_count": null,
   "id": "b28c0b11",
   "metadata": {},
   "outputs": [],
   "source": [
    "# Uruchom, jeśli pojawi się błąd 'ModuleNotFoundError'\n",
    "# !pip -q install scipy nibabel nilearn SimpleITK pydicom matplotlib numpy"
   ]
  },
  {
   "cell_type": "markdown",
   "id": "a040c2df",
   "metadata": {},
   "source": [
    "\n",
    "## 1) Automatyczne pobranie przykładowych danych\n",
    "\n",
    "Aby nie trzeba było samodzielnie uploadować danych, wczytamy:\n",
    "- **DICOM**: przykładowe pliki z pakietu `pydicom` (CT, MR),\n",
    "- **NIfTI**: mały wolumen MNI152 (szablon MRI mózgu) pobrany z `nilearn`.\n"
   ]
  },
  {
   "cell_type": "code",
   "execution_count": 2,
   "id": "723a70e9",
   "metadata": {},
   "outputs": [
    {
     "name": "stdout",
     "output_type": "stream",
     "text": [
      "Skopiowano pliki DICOM: ['SC_rgb.dcm', 'MR_small.dcm', 'CT_small.dcm']\n",
      "Pobrano MNI152 przez nilearn: ./data/lab01_data/nifti/mni152.nii.gz\n",
      "Gotowe dane w: ./data/lab01_data\n"
     ]
    }
   ],
   "source": [
    "import os, shutil, urllib.request\n",
    "import numpy as np\n",
    "import matplotlib.pyplot as plt\n",
    "\n",
    "import nibabel as nib\n",
    "import SimpleITK as sitk\n",
    "import pydicom\n",
    "from pydicom.data import get_testdata_files\n",
    "\n",
    "from scipy import ndimage as ndi\n",
    "\n",
    "BASE = \"/content/data\" if os.path.isdir(\"/content\") else \"./data\"\n",
    "DATA_DIR = os.path.join(BASE, \"lab01_data\")\n",
    "os.makedirs(DATA_DIR, exist_ok=True)\n",
    "\n",
    "# --- DICOM ---\n",
    "dicom_dir = os.path.join(DATA_DIR, \"dicom\")\n",
    "os.makedirs(dicom_dir, exist_ok=True)\n",
    "\n",
    "dicom_examples = [\"CT_small.dcm\", \"MR_small.dcm\", \"SC_rgb.dcm\"]\n",
    "for name in dicom_examples:\n",
    "    src = get_testdata_files(name)[0]\n",
    "    dst = os.path.join(dicom_dir, name)\n",
    "    shutil.copy(src, dst)\n",
    "print(\"Skopiowano pliki DICOM:\", os.listdir(dicom_dir))\n",
    "\n",
    "# --- NIfTI ---\n",
    "nifti_dir = os.path.join(DATA_DIR, \"nifti\")\n",
    "os.makedirs(nifti_dir, exist_ok=True)\n",
    "\n",
    "nifti_path = os.path.join(nifti_dir, \"mni152.nii.gz\")\n",
    "try:\n",
    "    from nilearn.datasets import load_mni152_template\n",
    "    img = load_mni152_template(resolution=2)\n",
    "    nib.save(img, nifti_path)\n",
    "    print(\"Pobrano MNI152 przez nilearn:\", nifti_path)\n",
    "except Exception as e:\n",
    "    print(\"Błąd nilearn:\", e)\n",
    "    url = \"https://nipy.org/nibabel/_static/nifti_examples/nifti1.nii.gz\"\n",
    "    urllib.request.urlretrieve(url, nifti_path)\n",
    "    print(\"Pobrano fallback NIfTI:\", nifti_path)\n",
    "\n",
    "print(\"Gotowe dane w:\", DATA_DIR)\n"
   ]
  },
  {
   "cell_type": "markdown",
   "id": "dfe20e5b",
   "metadata": {},
   "source": [
    "\n",
    "## Zadanie 1 – Wczytanie obrazu DICOM i metadane\n",
    "\n",
    "1. Wykonaj ponizsze operacje dla każdego z pobranych plików testowych DICOM (nazwy w `dicom_examples`).\n",
    "2. Metadane mogą być wczytane zarówno za pomocą biblioteki `pydicom` jak i `SimpleITK`.\n",
    "3. Najpierw wczytaj plik za pomocą funkcji `pydicom.dcmread`.\n",
    "4. Następnie wczytaj i wyświetl za pomocą funkcji `getattr` metadane takie jak: `\"Modality\", \"Rows\", \"Columns\", \"PixelSpacing\", \"SliceThickness\", \"Manufacturer\"`.\n",
    "Przykład wczytania przykładowej wartości: `print(\"Photometric Interpretation:\", getattr(img_dcm_pydicom, \"PhotometricInterpretation\", \"brak\"))`.\n",
    "5. Wczytaj ten sam plik za pomocą funkcji `sitk.ReadImage`.\n",
    "6. Wypisz wszystkie dostępne metadane dostępne w plikach. W tym celu wykorzystaj funkcji `img.GetMetaDataKeys()` oraz `img_dcm.GetMetaData(key)`.\n",
    "7. Przeanalizuj dostępne metadane.\n",
    "8. Wczytaj dane obrazowe za pomocą funkcji `sitk.GetArrayFromImage`, a następnie wyświetl dane za pomocą `matplotlib`."
   ]
  },
  {
   "cell_type": "code",
   "execution_count": null,
   "id": "223b3595",
   "metadata": {},
   "outputs": [],
   "source": [
    "# --- Zadanie 1"
   ]
  },
  {
   "cell_type": "markdown",
   "id": "0035dcab",
   "metadata": {},
   "source": [
    "\n",
    "## Zadanie 2 – Wczytanie wolumenu NIfTI i przekroje\n",
    "\n",
    "1. Wczytaj plik `mni152.nii.gz`. Ścieżka znajduje się w `nifti_path`. Wykorzystaj funkcję `nib.load`.\n",
    "2. Wczytaj dane za pomocą funkcji `file.get_fdata()`.\n",
    "3. Sprawdź kształt tablicy (`data.shape`), macierz affine (`file.affine`), spacing (`file.header.get_zooms()`) oraz kierunek osi `nib.aff2axcodes(nii.affine)`.\n",
    "4. Wyświetl trzy środkowe przekroje: axial (poprzeczny - \"od góry\"), coronal (czołowy - \"od przodu\"), sagittal (strzałkowy - \"od boku\").\n"
   ]
  },
  {
   "cell_type": "code",
   "execution_count": null,
   "id": "9b3e45e6",
   "metadata": {},
   "outputs": [],
   "source": [
    "# --- Zadanie 2"
   ]
  },
  {
   "cell_type": "markdown",
   "id": "931a5903",
   "metadata": {},
   "source": [
    "\n",
    "## Zadanie 3 – Histogram i podstawowe operacje\n",
    "\n",
    "1. Wyświetl histogram intensywności wolumenu (NIfTI) za pomocą funkcji `plt.hist`. W celu poprawy widoczności można ustawić `range=(0.01, 1)`. Wcześniej spłaszcz dane za pomocą metody `.ravel()`.\n",
    "2. Wyświetl 3 oryginalne przekroje (jak w poprzednim zadaniu).\n",
    "3. Oblicz gradient Sobela względem wszystkich trzech osi. Wykorzystaj funkcję `ndi.sobel`.\n",
    "4. Za pomocą normy L2 połącz wyniki z wszystkich osi.\n",
    "5. Wyświetl te same przekroje jak wcześniej.\n",
    "6. Wykonaj progowanie dla 90-tego precentyla danych. Do wyznaczenia tej wartości wykorzystaj funkcję `np.percentile`.\n",
    "7. Wykonaj progowania, a następnie zrzutuj wynik do typu `np.uint8`.\n",
    "8. Wyświetl te same przekroje jak wcześniej.\n",
    "9. Wykonaj filtrację medianową dla tych samych danych. Wykorzystaj funkcję `ndi.median_filter`.\n",
    "10. Wyświetl te same przekroje jak wcześniej.\n"
   ]
  },
  {
   "cell_type": "code",
   "execution_count": null,
   "id": "c4fb687d",
   "metadata": {},
   "outputs": [],
   "source": [
    "# --- Zadanie 3"
   ]
  },
  {
   "cell_type": "markdown",
   "id": "aa70dd12",
   "metadata": {},
   "source": [
    "\n",
    "## Zadanie 4 – Resampling wolumenu do izotropowego voxela\n",
    "\n",
    "1. Wczytaj dane NIfTI za pomocą `SimpleITK`. Wykorzystaj funkcję `sitk.ReadImage`.\n",
    "2. Wyświetl rozmiar i spacing wczytanych danych. Wykorzystaj metody `.GetSize()` i `.GetSpacing()`.\n",
    "3. Stwórz instancję klasy `sitk.ResampleImageFilter()`.\n",
    "4. Wybierz metodę interpolacji za pomocą metody `.SetInterpolator`.\n",
    "5. Wybierz wyjściowy spacing za pomocą metody `.SetOutputSpacing`. Chcemy uzyskać spacing 1mm dla każdej osi.\n",
    "6. Ustaw orientację i położenie początka ukłądu współrzędnych jak w oryginalnych danych. Wykorzystaj metody `.SetOutputDirection`, `.GetDirection`, `.SetOutputOrigin` i `.GetOrigin`.\n",
    "7. Oblicz rozmiar wyjściowych danych. Rozmiar dla analizowanego wymiaru powinien wynosić $Sz_o \\cdot Sp_o / Sp_n$, gdzie $Sz_o$ jest originalnym rozmiarem, $Sp_o$ jest oryginalnym spacingiem, a $Sp_n$ jest docelowym spacingiem.\n",
    "8. Ustaw docelowy rozmiar za pomocą metody `.SetSize`.\n",
    "9. Wykonaj przeprobkowanie danych za pomocą metody `.Execute`.\n",
    "10. Wyświetl rozmiar oraz spacing wyjściowych danych."
   ]
  },
  {
   "cell_type": "code",
   "execution_count": null,
   "id": "cd882adf",
   "metadata": {},
   "outputs": [],
   "source": [
    "# --- Zadanie 4"
   ]
  },
  {
   "cell_type": "markdown",
   "id": "389615e9",
   "metadata": {},
   "source": [
    "\n",
    "## Zadanie 5 – Zapis przetworzonego wolumenu w formacie NIfTI (LPS -> RAS)\n",
    "\n",
    "1. Utwórz ścieżkę gdzie dane zostaną zapisane.\n",
    "2. Wyciągnij dane `NumPy` z obrazu `SimpleITK`.\n",
    "3. Dopasuj kolejność wymiarów do biblioteki `nibabel` - (z, y, x) -> (x, y, z). Wykorzystaj funkcję `np.transpose`.\n",
    "4. Pobierz spacing, direction i origin dla zapisywanych danych. Zamień je na `np.array` typu `float`. Zmień kształt direction na `(3, 3)` metodą `.reshape`.\n",
    "5. Wyświetl pobrane wartości.\n",
    "6. Najpierw stwórz macierz affine dla formatu LPS (stosowany w `SimpleITK` i DICOM). Zacznij od stworzenia macierzy jednostkowej o rozmiarze $4 \\times 4$. Następnie w trzy pierwsze kolumny i wiersze wpisz kolumny direction przeskalowane przez spacing (wystarczy operacja mnożenia element przez element - `*`). Do trzech pierwszych wierszy ostatniej kolumny wpisz origin.\n",
    "7. Skonwertuj affine w formacie LPS do formatu RAS. W tym celu wystarczy odwrócić kierunki osi x i y. Można to zrobić wykonująć mnożenie macierzowe formatu lps przez macierz diagonalną o wartościach `[-1, -1, 1, 1]`. macierz diagonalną można stworzyć za pomocą `np.diag`.\n",
    "8. Wyświetl obliczone affine. Porównaj go z affine oryginalnych danych, wczytanych na początku zadania 2.\n",
    "9. Stwórz obraz NIfTI za pomocą `nib.Nifti1Image`. Pierwszym argumentem są dane jako tablica `NumPy`, a drugim affine w formacie RAS.\n",
    "10. Wykonaj dodatkowo `nifti.set_sform(affine_ras, code=1)` i `nifti.set_qform(affine_ras, code=1)`.\n",
    "11. Zapisz dane za pomocą `nib.save`."
   ]
  },
  {
   "cell_type": "code",
   "execution_count": null,
   "id": "208cad96",
   "metadata": {},
   "outputs": [],
   "source": [
    "# --- Zadanie 5"
   ]
  },
  {
   "cell_type": "markdown",
   "id": "d9ef8842",
   "metadata": {},
   "source": [
    "\n",
    "---\n",
    "## Podsumowanie (do krótkiego uzupełnienia)\n",
    "\n",
    "- Jakie są główne różnice między DICOM a NIfTI?  \n",
    "- Jakie metadane są ważne przy pracy z obrazami medycznymi?  \n",
    "- Jak interpretować trzy podstawowe przekroje wolumenu (axial, coronal, sagittal)?\n"
   ]
  }
 ],
 "metadata": {
  "kernelspec": {
   "display_name": "venv",
   "language": "python",
   "name": "python3"
  },
  "language_info": {
   "codemirror_mode": {
    "name": "ipython",
    "version": 3
   },
   "file_extension": ".py",
   "mimetype": "text/x-python",
   "name": "python",
   "nbconvert_exporter": "python",
   "pygments_lexer": "ipython3",
   "version": "3.10.12"
  }
 },
 "nbformat": 4,
 "nbformat_minor": 5
}
